{
 "cells": [
  {
   "cell_type": "code",
   "execution_count": 9,
   "metadata": {},
   "outputs": [],
   "source": [
    "from minio import Minio\n",
    "# Create client with access key and secret key with specific region.\n",
    "client = Minio(\n",
    "    \"localhost:9000\",\n",
    "    access_key=\"1DEk417EwJy76U7FrDzQ\",\n",
    "    secret_key=\"yWWN4BlDeNHW6GpjlbPLH0QAcds7qeoH2DFkwzYN\",\n",
    "    secure=False\n",
    ")\n",
    "\n"
   ]
  },
  {
   "cell_type": "code",
   "execution_count": 10,
   "metadata": {},
   "outputs": [
    {
     "name": "stdout",
     "output_type": "stream",
     "text": [
      "moviehub 2025-04-16 05:56:20.353000+00:00\n"
     ]
    }
   ],
   "source": [
    "buckets = client.list_buckets()\n",
    "for bucket in buckets:\n",
    "    print(bucket.name, bucket.creation_date)"
   ]
  },
  {
   "cell_type": "code",
   "execution_count": 12,
   "metadata": {},
   "outputs": [
    {
     "name": "stdout",
     "output_type": "stream",
     "text": [
      "moviehub\n",
      "1.mp4\n",
      "<minio.datatypes.Object object at 0x7f136c4e3650>\n",
      "moviehub\n",
      "10.mp4\n",
      "<minio.datatypes.Object object at 0x7f1356510290>\n",
      "moviehub\n",
      "2.mp4\n",
      "<minio.datatypes.Object object at 0x7f136c0e3b90>\n",
      "moviehub\n",
      "3.mp4\n",
      "<minio.datatypes.Object object at 0x7f136c541640>\n",
      "moviehub\n",
      "4.mp4\n",
      "<minio.datatypes.Object object at 0x7f136c0e3b90>\n",
      "moviehub\n",
      "5.mp4\n",
      "<minio.datatypes.Object object at 0x7f136c541640>\n",
      "moviehub\n",
      "6.mp4\n",
      "<minio.datatypes.Object object at 0x7f1355953650>\n",
      "moviehub\n",
      "7.mp4\n",
      "<minio.datatypes.Object object at 0x7f1355953c50>\n",
      "moviehub\n",
      "8.mp4\n",
      "<minio.datatypes.Object object at 0x7f136c4e30e0>\n",
      "moviehub\n",
      "9.mp4\n",
      "<minio.datatypes.Object object at 0x7f1356510740>\n"
     ]
    }
   ],
   "source": [
    "objects = client.list_objects(\"moviehub\", recursive=True)\n",
    "for obj in objects:\n",
    "    print(bucket.name)\n",
    "    print(obj.object_name) \n",
    "    res = client.fget_object(bucket.name,obj.object_name, file_path= \"./app/movieinput/\"+obj.object_name)\n",
    "    print(res)\n",
    "    "
   ]
  },
  {
   "cell_type": "code",
   "execution_count": 13,
   "metadata": {},
   "outputs": [
    {
     "data": {
      "text/plain": [
       "'/home/user/Documents/Multilingual-Transcriber/dags/app/experiments'"
      ]
     },
     "execution_count": 13,
     "metadata": {},
     "output_type": "execute_result"
    }
   ],
   "source": [
    "import os\n",
    "os.getcwd()"
   ]
  },
  {
   "cell_type": "code",
   "execution_count": 15,
   "metadata": {},
   "outputs": [
    {
     "data": {
      "text/plain": [
       "<minio.datatypes.Object at 0x7f136c4e3170>"
      ]
     },
     "execution_count": 15,
     "metadata": {},
     "output_type": "execute_result"
    }
   ],
   "source": [
    "client.fget_object(\"moviehub\",\"7.mp4\", file_path= \"/home/user/Documents/Multilingual-Transcriber/dags/app/movieinput\")"
   ]
  },
  {
   "cell_type": "code",
   "execution_count": 12,
   "metadata": {},
   "outputs": [
    {
     "data": {
      "text/plain": [
       "<minio.api.Minio at 0x7f5d22e616a0>"
      ]
     },
     "execution_count": 12,
     "metadata": {},
     "output_type": "execute_result"
    }
   ],
   "source": [
    "client"
   ]
  },
  {
   "cell_type": "code",
   "execution_count": 7,
   "metadata": {},
   "outputs": [
    {
     "data": {
      "text/plain": [
       "[[0, 0], [0, 1], [0, 2], [0, 3], [0, 4]]"
      ]
     },
     "execution_count": 7,
     "metadata": {},
     "output_type": "execute_result"
    }
   ],
   "source": [
    "lst = []\n",
    "for i in range (5):\n",
    "    lst.append([0,i])\n",
    "lst"
   ]
  },
  {
   "cell_type": "code",
   "execution_count": 12,
   "metadata": {},
   "outputs": [
    {
     "name": "stdout",
     "output_type": "stream",
     "text": [
      "0\n",
      "1\n",
      "2\n",
      "3\n",
      "4\n"
     ]
    }
   ],
   "source": [
    "for i in range(len(lst)):\n",
    "    print(lst[i][1])"
   ]
  },
  {
   "cell_type": "code",
   "execution_count": 1,
   "metadata": {},
   "outputs": [],
   "source": [
    "prompt = \"\"\" \n",
    "This is an audio recording from a classic Indian Hindi movie, likely from the 1950s to 1980s.\n",
    "The audio may contain soft or degraded vocal tracks, background music, dramatic pauses, \n",
    "and cultural expressions unique to old Hindi cinema. Please transcribe all spoken Hindi dialogue clearly, \n",
    "including poetic or formal speech, song lyrics, and emotionally expressive tones. Maintain speaker changes where possible \n",
    "and try to distinguish between characters even without named diarization. \n",
    "Filter out or ignore irrelevant background noise, but preserve any meaningful non-verbal vocal expressions \n",
    "(e.g., sighs, gasps). Output should be clean and suitable for translation into modern spoken languages. \"\"\"\n",
    "    \n"
   ]
  },
  {
   "cell_type": "code",
   "execution_count": null,
   "metadata": {},
   "outputs": [
    {
     "ename": "",
     "evalue": "",
     "output_type": "error",
     "traceback": [
      "\u001b[1;31mRunning cells with 'Python 3.10.12' requires the ipykernel package.\n",
      "\u001b[1;31m<a href='command:jupyter.createPythonEnvAndSelectController'>Create a Python Environment</a> with the required packages."
     ]
    }
   ],
   "source": [
    "from openai import OpenAI\n",
    "import datetime\n",
    "\n",
    "# Step 1: Get verbose JSON response with word-level timestamps\n",
    "client = OpenAI(api_key = \" \")\n",
    "audio_file = open(\"/home/csc/Documents/Multilingual-Transcriber/shared_data/movieslist/Ahista/audiofiles/ahista_ahista_part12_audio.mp3\", \"rb\")\n",
    "\n",
    "transcription = client.audio.transcriptions.create(\n",
    "    file=audio_file,\n",
    "    model=\"whisper-1\",\n",
    "    response_format=\"verbose_json\",\n",
    "    timestamp_granularities=[\"word\"]\n",
    ")\n",
    "\n",
    "words = transcription.words  # List of word dicts with start and end times\n",
    "\n",
    "# Step 2: Helper function to format seconds to SRT time (HH:MM:SS,mmm)\n",
    "def format_srt_time(seconds):\n",
    "    delta = datetime.timedelta(seconds=seconds)\n",
    "    return str(delta)[:-3].replace('.', ',').rjust(12, '0')\n",
    "\n",
    "# Step 3: Group words into sentences (basic approach: group every N words or based on pause)\n",
    "srt_entries = []\n",
    "current_entry = []\n",
    "entry_start = None\n",
    "entry_end = None\n",
    "max_words_per_line = 10\n",
    "pause_threshold = 1.0  # seconds\n",
    "\n",
    "for i, word in enumerate(words):\n",
    "    if not current_entry:\n",
    "        entry_start = word['start']\n",
    "    \n",
    "    current_entry.append(word['word'])\n",
    "    entry_end = word['end']\n",
    "    \n",
    "    # End segment on max words or long pause\n",
    "    next_word = words[i + 1] if i + 1 < len(words) else None\n",
    "    pause = (next_word['start'] - word['end']) if next_word else 0\n",
    "\n",
    "    if len(current_entry) >= max_words_per_line or pause > pause_threshold or next_word is None:\n",
    "        text = ' '.join(current_entry).strip()\n",
    "        srt_entries.append({\n",
    "            \"index\": len(srt_entries) + 1,\n",
    "            \"start\": format_srt_time(entry_start),\n",
    "            \"end\": format_srt_time(entry_end),\n",
    "            \"text\": text\n",
    "        })\n",
    "        current_entry = []\n",
    "\n",
    "# Step 4: Write to .srt file\n",
    "with open(\"transcription.srt\", \"w\", encoding=\"utf-8\") as f:\n",
    "    for entry in srt_entries:\n",
    "        f.write(f\"{entry['index']}\\n\")\n",
    "        f.write(f\"{entry['start']} --> {entry['end']}\\n\")\n",
    "        f.write(f\"{entry['text']}\\n\\n\")\n",
    "\n",
    "print(\"SRT file created: transcription.srt\")\n"
   ]
  }
 ],
 "metadata": {
  "kernelspec": {
   "display_name": "transcriber",
   "language": "python",
   "name": "python3"
  },
  "language_info": {
   "codemirror_mode": {
    "name": "ipython",
    "version": 3
   },
   "file_extension": ".py",
   "mimetype": "text/x-python",
   "name": "python",
   "nbconvert_exporter": "python",
   "pygments_lexer": "ipython3",
   "version": "3.12.9"
  }
 },
 "nbformat": 4,
 "nbformat_minor": 2
}
