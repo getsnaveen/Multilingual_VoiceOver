{
 "cells": [
  {
   "cell_type": "code",
   "execution_count": 5,
   "metadata": {},
   "outputs": [],
   "source": [
    "from airflow import DAG\n",
    "\n",
    "from airflow.operators.python import PythonOperator\n",
    "\n",
    "from airflow.utils.dates import days_ago\n",
    "\n",
    "def main(**kwargs):\n",
    "\n",
    "    print(\"Hello World!\")"
   ]
  },
  {
   "cell_type": "code",
   "execution_count": 6,
   "metadata": {},
   "outputs": [
    {
     "name": "stderr",
     "output_type": "stream",
     "text": [
      "/tmp/ipykernel_56369/2527813691.py:7: RemovedInAirflow3Warning: Function `days_ago` is deprecated and will be removed in Airflow 3.0. You can achieve equivalent behavior with `pendulum.today('UTC').add(days=-N, ...)`\n",
      "  'start_date': days_ago(2),\n"
     ]
    }
   ],
   "source": [
    "args = {\n",
    "\n",
    "  'owner': 'airflow',\n",
    "\n",
    "  'depends_on_past': False,\n",
    "\n",
    "  'start_date': days_ago(2),\n",
    "\n",
    "  'email': ['sample@gmail.com'],\n",
    "\n",
    "  'email_on_failure': False,\n",
    "\n",
    "  'email_on_retry': False,\n",
    "\n",
    "  'retries': 1,\n",
    "\n",
    "  'schedule_interval': None,\n",
    "\n",
    "  'provide_context': True\n",
    "\n",
    "}"
   ]
  },
  {
   "cell_type": "code",
   "execution_count": 7,
   "metadata": {},
   "outputs": [
    {
     "name": "stderr",
     "output_type": "stream",
     "text": [
      "/tmp/ipykernel_56369/3764948780.py:1: RemovedInAirflow3Warning: Creating a DAG with an implicit schedule is deprecated, and will stop working in a future release. Set `schedule=datetime.timedelta(days=1)` explicitly.\n",
      "  dag = DAG(\n"
     ]
    }
   ],
   "source": [
    "dag = DAG(\n",
    "\n",
    "  dag_id='my-dag',\n",
    "\n",
    "  default_args=args,\n",
    "\n",
    "  tags=[\"newdag\"]\n",
    "\n",
    ")\n"
   ]
  },
  {
   "cell_type": "code",
   "execution_count": 8,
   "metadata": {},
   "outputs": [],
   "source": [
    "t1 = PythonOperator(task_id = \"my_function\",\n",
    "\n",
    "  python_callable = main,\n",
    "\n",
    "  dag = dag\n",
    "\n",
    ")"
   ]
  },
  {
   "cell_type": "code",
   "execution_count": 9,
   "metadata": {},
   "outputs": [
    {
     "data": {
      "text/plain": [
       "<Task(PythonOperator): my_function>"
      ]
     },
     "execution_count": 9,
     "metadata": {},
     "output_type": "execute_result"
    }
   ],
   "source": [
    "t1"
   ]
  },
  {
   "cell_type": "code",
   "execution_count": 14,
   "metadata": {},
   "outputs": [],
   "source": [
    "from airflow_client.client import Configuration, ApiClient\n",
    "\n",
    "config = Configuration(\n",
    "    host=\"http://localhost:8080\",\n",
    "    username='airflow',\n",
    "    password='airflow'\n",
    ")\n"
   ]
  },
  {
   "cell_type": "code",
   "execution_count": 15,
   "metadata": {},
   "outputs": [],
   "source": [
    "from airflow_client.client.api import dag_run_api\n",
    "from airflow_client.client.model.dag_run import DAGRun\n",
    "dag_id = \"TESTRun\"\n",
    "dag_run_id =\"Runtest-\"\n"
   ]
  },
  {
   "cell_type": "code",
   "execution_count": 16,
   "metadata": {},
   "outputs": [
    {
     "name": "stdout",
     "output_type": "stream",
     "text": [
      "DAG run about to start\n"
     ]
    },
    {
     "ename": "ApiTypeError",
     "evalue": "Invalid type for variable 'dag_run'. Required value type is DAGRun and passed type was str at ['dag_run']",
     "output_type": "error",
     "traceback": [
      "\u001b[0;31m---------------------------------------------------------------------------\u001b[0m",
      "\u001b[0;31mApiTypeError\u001b[0m                              Traceback (most recent call last)",
      "Cell \u001b[0;32mIn[16], line 5\u001b[0m\n\u001b[1;32m      3\u001b[0m dag_run_api_instance \u001b[38;5;241m=\u001b[39m dag_run_api\u001b[38;5;241m.\u001b[39mDAGRunApi(api_client)\n\u001b[1;32m      4\u001b[0m dag_run \u001b[38;5;241m=\u001b[39m DAGRun(dag_run_id \u001b[38;5;241m=\u001b[39m dag_run_id)\n\u001b[0;32m----> 5\u001b[0m api_response \u001b[38;5;241m=\u001b[39m dag_run_api_instance\u001b[38;5;241m.\u001b[39mpost_dag_run(dag_id, dag_run_id)\n\u001b[1;32m      6\u001b[0m \u001b[38;5;28mprint\u001b[39m(api_response)\n",
      "File \u001b[0;32m~/anaconda3/lib/python3.12/site-packages/airflow_client/client/api/dag_run_api.py:1238\u001b[0m, in \u001b[0;36mDAGRunApi.post_dag_run\u001b[0;34m(self, dag_id, dag_run, **kwargs)\u001b[0m\n\u001b[1;32m   1234\u001b[0m kwargs[\u001b[38;5;124m'\u001b[39m\u001b[38;5;124mdag_id\u001b[39m\u001b[38;5;124m'\u001b[39m] \u001b[38;5;241m=\u001b[39m \\\n\u001b[1;32m   1235\u001b[0m     dag_id\n\u001b[1;32m   1236\u001b[0m kwargs[\u001b[38;5;124m'\u001b[39m\u001b[38;5;124mdag_run\u001b[39m\u001b[38;5;124m'\u001b[39m] \u001b[38;5;241m=\u001b[39m \\\n\u001b[1;32m   1237\u001b[0m     dag_run\n\u001b[0;32m-> 1238\u001b[0m \u001b[38;5;28;01mreturn\u001b[39;00m \u001b[38;5;28mself\u001b[39m\u001b[38;5;241m.\u001b[39mpost_dag_run_endpoint\u001b[38;5;241m.\u001b[39mcall_with_http_info(\u001b[38;5;241m*\u001b[39m\u001b[38;5;241m*\u001b[39mkwargs)\n",
      "File \u001b[0;32m~/anaconda3/lib/python3.12/site-packages/airflow_client/client/api_client.py:831\u001b[0m, in \u001b[0;36mEndpoint.call_with_http_info\u001b[0;34m(self, **kwargs)\u001b[0m\n\u001b[1;32m    825\u001b[0m     \u001b[38;5;28;01mif\u001b[39;00m key \u001b[38;5;129;01mnot\u001b[39;00m \u001b[38;5;129;01min\u001b[39;00m kwargs\u001b[38;5;241m.\u001b[39mkeys():\n\u001b[1;32m    826\u001b[0m         \u001b[38;5;28;01mraise\u001b[39;00m ApiValueError(\n\u001b[1;32m    827\u001b[0m             \u001b[38;5;124m\"\u001b[39m\u001b[38;5;124mMissing the required parameter `\u001b[39m\u001b[38;5;132;01m%s\u001b[39;00m\u001b[38;5;124m` when calling \u001b[39m\u001b[38;5;124m\"\u001b[39m\n\u001b[1;32m    828\u001b[0m             \u001b[38;5;124m\"\u001b[39m\u001b[38;5;124m`\u001b[39m\u001b[38;5;132;01m%s\u001b[39;00m\u001b[38;5;124m`\u001b[39m\u001b[38;5;124m\"\u001b[39m \u001b[38;5;241m%\u001b[39m (key, \u001b[38;5;28mself\u001b[39m\u001b[38;5;241m.\u001b[39msettings[\u001b[38;5;124m'\u001b[39m\u001b[38;5;124moperation_id\u001b[39m\u001b[38;5;124m'\u001b[39m])\n\u001b[1;32m    829\u001b[0m         )\n\u001b[0;32m--> 831\u001b[0m \u001b[38;5;28mself\u001b[39m\u001b[38;5;241m.\u001b[39m__validate_inputs(kwargs)\n\u001b[1;32m    833\u001b[0m params \u001b[38;5;241m=\u001b[39m \u001b[38;5;28mself\u001b[39m\u001b[38;5;241m.\u001b[39m__gather_params(kwargs)\n\u001b[1;32m    835\u001b[0m accept_headers_list \u001b[38;5;241m=\u001b[39m \u001b[38;5;28mself\u001b[39m\u001b[38;5;241m.\u001b[39mheaders_map[\u001b[38;5;124m'\u001b[39m\u001b[38;5;124maccept\u001b[39m\u001b[38;5;124m'\u001b[39m]\n",
      "File \u001b[0;32m~/anaconda3/lib/python3.12/site-packages/airflow_client/client/api_client.py:725\u001b[0m, in \u001b[0;36mEndpoint.__validate_inputs\u001b[0;34m(self, kwargs)\u001b[0m\n\u001b[1;32m    722\u001b[0m     \u001b[38;5;28;01mreturn\u001b[39;00m\n\u001b[1;32m    724\u001b[0m \u001b[38;5;28;01mfor\u001b[39;00m key, value \u001b[38;5;129;01min\u001b[39;00m kwargs\u001b[38;5;241m.\u001b[39mitems():\n\u001b[0;32m--> 725\u001b[0m     fixed_val \u001b[38;5;241m=\u001b[39m validate_and_convert_types(\n\u001b[1;32m    726\u001b[0m         value,\n\u001b[1;32m    727\u001b[0m         \u001b[38;5;28mself\u001b[39m\u001b[38;5;241m.\u001b[39mopenapi_types[key],\n\u001b[1;32m    728\u001b[0m         [key],\n\u001b[1;32m    729\u001b[0m         kwargs[\u001b[38;5;124m'\u001b[39m\u001b[38;5;124m_spec_property_naming\u001b[39m\u001b[38;5;124m'\u001b[39m],\n\u001b[1;32m    730\u001b[0m         kwargs[\u001b[38;5;124m'\u001b[39m\u001b[38;5;124m_check_input_type\u001b[39m\u001b[38;5;124m'\u001b[39m],\n\u001b[1;32m    731\u001b[0m         configuration\u001b[38;5;241m=\u001b[39m\u001b[38;5;28mself\u001b[39m\u001b[38;5;241m.\u001b[39mapi_client\u001b[38;5;241m.\u001b[39mconfiguration\n\u001b[1;32m    732\u001b[0m     )\n\u001b[1;32m    733\u001b[0m     kwargs[key] \u001b[38;5;241m=\u001b[39m fixed_val\n",
      "File \u001b[0;32m~/anaconda3/lib/python3.12/site-packages/airflow_client/client/model_utils.py:1570\u001b[0m, in \u001b[0;36mvalidate_and_convert_types\u001b[0;34m(input_value, required_types_mixed, path_to_item, spec_property_naming, _check_type, configuration)\u001b[0m\n\u001b[1;32m   1567\u001b[0m \u001b[38;5;28;01mif\u001b[39;00m \u001b[38;5;129;01mnot\u001b[39;00m valid_type:\n\u001b[1;32m   1568\u001b[0m     \u001b[38;5;28;01mif\u001b[39;00m configuration:\n\u001b[1;32m   1569\u001b[0m         \u001b[38;5;66;03m# if input_value is not valid_type try to convert it\u001b[39;00m\n\u001b[0;32m-> 1570\u001b[0m         converted_instance \u001b[38;5;241m=\u001b[39m attempt_convert_item(\n\u001b[1;32m   1571\u001b[0m             input_value,\n\u001b[1;32m   1572\u001b[0m             valid_classes,\n\u001b[1;32m   1573\u001b[0m             path_to_item,\n\u001b[1;32m   1574\u001b[0m             configuration,\n\u001b[1;32m   1575\u001b[0m             spec_property_naming,\n\u001b[1;32m   1576\u001b[0m             key_type\u001b[38;5;241m=\u001b[39m\u001b[38;5;28;01mFalse\u001b[39;00m,\n\u001b[1;32m   1577\u001b[0m             must_convert\u001b[38;5;241m=\u001b[39m\u001b[38;5;28;01mTrue\u001b[39;00m,\n\u001b[1;32m   1578\u001b[0m             check_type\u001b[38;5;241m=\u001b[39m_check_type\n\u001b[1;32m   1579\u001b[0m         )\n\u001b[1;32m   1580\u001b[0m         \u001b[38;5;28;01mreturn\u001b[39;00m converted_instance\n\u001b[1;32m   1581\u001b[0m     \u001b[38;5;28;01melse\u001b[39;00m:\n",
      "File \u001b[0;32m~/anaconda3/lib/python3.12/site-packages/airflow_client/client/model_utils.py:1449\u001b[0m, in \u001b[0;36mattempt_convert_item\u001b[0;34m(input_value, valid_classes, path_to_item, configuration, spec_property_naming, key_type, must_convert, check_type)\u001b[0m\n\u001b[1;32m   1445\u001b[0m \u001b[38;5;28;01mif\u001b[39;00m \u001b[38;5;129;01mnot\u001b[39;00m valid_classes_coercible \u001b[38;5;129;01mor\u001b[39;00m key_type:\n\u001b[1;32m   1446\u001b[0m     \u001b[38;5;66;03m# we do not handle keytype errors, json will take care\u001b[39;00m\n\u001b[1;32m   1447\u001b[0m     \u001b[38;5;66;03m# of this for us\u001b[39;00m\n\u001b[1;32m   1448\u001b[0m     \u001b[38;5;28;01mif\u001b[39;00m configuration \u001b[38;5;129;01mis\u001b[39;00m \u001b[38;5;28;01mNone\u001b[39;00m \u001b[38;5;129;01mor\u001b[39;00m \u001b[38;5;129;01mnot\u001b[39;00m configuration\u001b[38;5;241m.\u001b[39mdiscard_unknown_keys:\n\u001b[0;32m-> 1449\u001b[0m         \u001b[38;5;28;01mraise\u001b[39;00m get_type_error(input_value, path_to_item, valid_classes,\n\u001b[1;32m   1450\u001b[0m                              key_type\u001b[38;5;241m=\u001b[39mkey_type)\n\u001b[1;32m   1451\u001b[0m \u001b[38;5;28;01mfor\u001b[39;00m valid_class \u001b[38;5;129;01min\u001b[39;00m valid_classes_coercible:\n\u001b[1;32m   1452\u001b[0m     \u001b[38;5;28;01mtry\u001b[39;00m:\n",
      "\u001b[0;31mApiTypeError\u001b[0m: Invalid type for variable 'dag_run'. Required value type is DAGRun and passed type was str at ['dag_run']"
     ]
    }
   ],
   "source": [
    "with ApiClient(config) as api_client:\n",
    "    print(\"DAG run about to start\")\n",
    "    dag_run_api_instance = dag_run_api.DAGRunApi(api_client)\n",
    "    dag_run = DAGRun(dag_run_id = dag_run_id)\n",
    "    api_response = dag_run_api_instance.post_dag_run(dag_id, dag_run_id)\n",
    "    print(api_response)"
   ]
  }
 ],
 "metadata": {
  "kernelspec": {
   "display_name": "base",
   "language": "python",
   "name": "python3"
  },
  "language_info": {
   "codemirror_mode": {
    "name": "ipython",
    "version": 3
   },
   "file_extension": ".py",
   "mimetype": "text/x-python",
   "name": "python",
   "nbconvert_exporter": "python",
   "pygments_lexer": "ipython3",
   "version": "3.13.2"
  }
 },
 "nbformat": 4,
 "nbformat_minor": 2
}
